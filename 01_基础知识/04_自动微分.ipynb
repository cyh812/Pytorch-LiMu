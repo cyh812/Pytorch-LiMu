{
 "cells": [
  {
   "cell_type": "markdown",
   "id": "807b7862",
   "metadata": {
    "slideshow": {
     "slide_type": "-"
    }
   },
   "source": [
    "# 自动微分\n",
    "\n",
    "假设我们想对函数$y=2\\mathbf{x}^{\\top}\\mathbf{x}$关于列向量$\\mathbf{x}$求导"
   ]
  },
  {
   "cell_type": "code",
   "execution_count": null,
   "id": "98cd8a9e",
   "metadata": {
    "execution": {
     "iopub.execute_input": "2023-08-18T07:07:31.627945Z",
     "iopub.status.busy": "2023-08-18T07:07:31.627424Z",
     "iopub.status.idle": "2023-08-18T07:07:32.686372Z",
     "shell.execute_reply": "2023-08-18T07:07:32.685559Z"
    },
    "origin_pos": 2,
    "tab": [
     "pytorch"
    ]
   },
   "outputs": [
    {
     "name": "stdout",
     "output_type": "stream",
     "text": [
      "tensor([ 0.,  4.,  8., 12.])\n",
      "tensor([ 1.,  5.,  9., 13.])\n"
     ]
    }
   ],
   "source": [
    "import torch\n",
    "\n",
    "# 创建一个包含4个元素的张量（向量）[0., 1., 2., 3.]，并设置requires_grad=True以跟踪对其的所有操作。\n",
    "# 但是在实战中 requires_grad=True 这种一般不出现，因为集成了torch.nn模块在初始化权重时默认都添加梯度了\n",
    "x = torch.arange(4.0, requires_grad=True)\n",
    "\n",
    "# 计算y，它是x和x自身的点积乘以2。这里y是一个标量。\n",
    "y = 2 * torch.dot(x, x)\n",
    "\n",
    "# 对y进行反向传播，计算y关于x的梯度。由于y是一个标量，这等价于计算y的导数。\n",
    "y.backward()\n",
    "\n",
    "# 打印出x的梯度。由于y = 2 * x^T * x，y关于x的梯度是4 * x。\n",
    "print(x.grad)\n",
    "\n",
    "x.grad == 4 * x # tensor([True, True, True, True])\n",
    "\n",
    "# 清除之前计算出的梯度值。在PyTorch中，如果不手动清零，梯度会累积。\n",
    "x.grad.zero_()\n",
    "\n",
    "# 计算一个新的y，它是x的所有元素的和。\n",
    "y = x.sum()\n",
    "\n",
    "# 对新的y进行反向传播，计算关于x的梯度。\n",
    "y.backward()\n",
    "\n",
    "# 打印出新的梯度。由于y是x的和，y关于x的梯度是一个全1的向量。\n",
    "print(x.grad)"
   ]
  },
  {
   "cell_type": "markdown",
   "id": "6ab86a5c",
   "metadata": {
    "slideshow": {
     "slide_type": "slide"
    }
   },
   "source": [
    "深度学习中\n",
    "，我们的目的不是计算微分矩阵（即向量对向量求导这种），而是单独计算批量中每个样本的偏导数之和"
   ]
  }
 ],
 "metadata": {
  "celltoolbar": "Slideshow",
  "kernelspec": {
   "display_name": "LiMu",
   "language": "python",
   "name": "python3"
  },
  "language_info": {
   "codemirror_mode": {
    "name": "ipython",
    "version": 3
   },
   "file_extension": ".py",
   "mimetype": "text/x-python",
   "name": "python",
   "nbconvert_exporter": "python",
   "pygments_lexer": "ipython3",
   "version": "3.10.14"
  },
  "required_libs": [],
  "rise": {
   "autolaunch": true,
   "enable_chalkboard": true,
   "overlay": "<div class='my-top-right'><img height=80px src='http://d2l.ai/_static/logo-with-text.png'/></div><div class='my-top-left'></div>",
   "scroll": true
  }
 },
 "nbformat": 4,
 "nbformat_minor": 5
}
