{
 "cells": [
  {
   "cell_type": "markdown",
   "id": "ee4089f8",
   "metadata": {
    "slideshow": {
     "slide_type": "-"
    }
   },
   "source": [
    "# 数据操作\n",
    "\n"
   ]
  },
  {
   "cell_type": "markdown",
   "id": "8f89b9c0",
   "metadata": {
    "slideshow": {
     "slide_type": "slide"
    }
   },
   "source": [
    "Debug的时候查看数据/权重的维度等"
   ]
  },
  {
   "cell_type": "code",
   "execution_count": null,
   "id": "b1700627",
   "metadata": {
    "execution": {
     "iopub.execute_input": "2023-08-18T07:05:02.997386Z",
     "iopub.status.busy": "2023-08-18T07:05:02.996970Z",
     "iopub.status.idle": "2023-08-18T07:05:03.007632Z",
     "shell.execute_reply": "2023-08-18T07:05:03.006483Z"
    },
    "origin_pos": 13,
    "tab": [
     "pytorch"
    ]
   },
   "outputs": [
    {
     "name": "stdout",
     "output_type": "stream",
     "text": [
      "3 12\n"
     ]
    }
   ],
   "source": [
    "import torch\n",
    "x = torch.arange(12).reshape(3,4) #生成0-11的torch数据\n",
    "type(x) #输出数据的类型\n",
    "x.shape #输出变量尺寸\n",
    "x.shape[0] #指定维度的尺寸\n",
    "len(x) #只会输出第一维的长度\n",
    "x.numel() #输出所有的元素总数\n",
    "X = x.reshape(3, 4) #修改变量形状，但是实际使用一般只会调换维度，用不到这个"
   ]
  },
  {
   "cell_type": "markdown",
   "id": "403fad02",
   "metadata": {
    "slideshow": {
     "slide_type": "slide"
    }
   },
   "source": [
    "使用全0、全1、其他常量，或者从特定分布中随机采样的数字    \n",
    "一般自己生成一些初始化权重/输入数据测试的时候用用"
   ]
  },
  {
   "cell_type": "code",
   "execution_count": 2,
   "id": "b23c3056",
   "metadata": {
    "execution": {
     "iopub.execute_input": "2023-08-18T07:05:03.044733Z",
     "iopub.status.busy": "2023-08-18T07:05:03.043866Z",
     "iopub.status.idle": "2023-08-18T07:05:03.052195Z",
     "shell.execute_reply": "2023-08-18T07:05:03.051146Z"
    },
    "origin_pos": 29,
    "tab": [
     "pytorch"
    ]
   },
   "outputs": [
    {
     "data": {
      "text/plain": [
       "tensor([[ 7.3891,  2.7183, 54.5981, 20.0855],\n",
       "        [ 2.7183,  7.3891, 20.0855, 54.5981],\n",
       "        [54.5981, 20.0855,  7.3891,  2.7183]])"
      ]
     },
     "execution_count": 2,
     "metadata": {},
     "output_type": "execute_result"
    }
   ],
   "source": [
    "import torch\n",
    "torch.zeros((2, 3, 4))\n",
    "torch.ones((2, 3, 4))\n",
    "torch.randn(3, 4)\n",
    "x = torch.tensor([[2, 1, 4, 3], [1, 2, 3, 4], [4, 3, 2, 1]])\n",
    "torch.exp(x) #批量进行幂运算"
   ]
  },
  {
   "cell_type": "markdown",
   "id": "e8a09ecd",
   "metadata": {
    "slideshow": {
     "slide_type": "slide"
    }
   },
   "source": [
    "把多个张量*连结*（concatenate）在一起，注意dim的维度    \n",
    "数据拼接的时候用得到"
   ]
  },
  {
   "cell_type": "code",
   "execution_count": 3,
   "id": "a583b891",
   "metadata": {
    "execution": {
     "iopub.execute_input": "2023-08-18T07:05:03.125263Z",
     "iopub.status.busy": "2023-08-18T07:05:03.124477Z",
     "iopub.status.idle": "2023-08-18T07:05:03.136328Z",
     "shell.execute_reply": "2023-08-18T07:05:03.135199Z"
    },
    "origin_pos": 59,
    "tab": [
     "pytorch"
    ]
   },
   "outputs": [
    {
     "name": "stdout",
     "output_type": "stream",
     "text": [
      "tensor([[ 0.,  1.,  2.,  3.],\n",
      "        [ 4.,  5.,  6.,  7.],\n",
      "        [ 8.,  9., 10., 11.]]) tensor([[2., 1., 4., 3.],\n",
      "        [1., 2., 3., 4.],\n",
      "        [4., 3., 2., 1.]])\n"
     ]
    },
    {
     "data": {
      "text/plain": [
       "(tensor([[ 0.,  1.,  2.,  3.],\n",
       "         [ 4.,  5.,  6.,  7.],\n",
       "         [ 8.,  9., 10., 11.],\n",
       "         [ 2.,  1.,  4.,  3.],\n",
       "         [ 1.,  2.,  3.,  4.],\n",
       "         [ 4.,  3.,  2.,  1.]]),\n",
       " tensor([[ 0.,  1.,  2.,  3.,  2.,  1.,  4.,  3.],\n",
       "         [ 4.,  5.,  6.,  7.,  1.,  2.,  3.,  4.],\n",
       "         [ 8.,  9., 10., 11.,  4.,  3.,  2.,  1.]]))"
      ]
     },
     "execution_count": 3,
     "metadata": {},
     "output_type": "execute_result"
    }
   ],
   "source": [
    "X = torch.arange(12, dtype=torch.float32).reshape((3,4))\n",
    "Y = torch.tensor([[2.0, 1, 4, 3], [1, 2, 3, 4], [4, 3, 2, 1]])\n",
    "print(X,Y)\n",
    "torch.cat((X, Y), dim=0), torch.cat((X, Y), dim=1)"
   ]
  },
  {
   "cell_type": "markdown",
   "id": "fac225a4",
   "metadata": {
    "slideshow": {
     "slide_type": "slide"
    }
   },
   "source": [
    "一般在计算模型准确率时会用到"
   ]
  },
  {
   "cell_type": "code",
   "execution_count": 4,
   "id": "6405ec63",
   "metadata": {
    "execution": {
     "iopub.execute_input": "2023-08-18T07:05:03.141449Z",
     "iopub.status.busy": "2023-08-18T07:05:03.140776Z",
     "iopub.status.idle": "2023-08-18T07:05:03.148692Z",
     "shell.execute_reply": "2023-08-18T07:05:03.147491Z"
    },
    "origin_pos": 63,
    "tab": [
     "pytorch"
    ]
   },
   "outputs": [
    {
     "data": {
      "text/plain": [
       "tensor(66.)"
      ]
     },
     "execution_count": 4,
     "metadata": {},
     "output_type": "execute_result"
    }
   ],
   "source": [
    "X == Y #比较两个tensor中变量的一致性\n",
    "X.sum() #两个tensor中所有元素求和，得到一个单元素张量，可以进一步变成标量"
   ]
  },
  {
   "cell_type": "markdown",
   "id": "16a2cb7b",
   "metadata": {
    "slideshow": {
     "slide_type": "slide"
    }
   },
   "source": [
    "可以用`[-1]`选择最后一个元素，可以用`[1:3]`选择第二个和第三个元素(左闭右开)   \n",
    "tensor的数据选择/过滤是最麻烦的，尤其是[:,-1]这种，维度会减少，需要多实践"
   ]
  },
  {
   "cell_type": "code",
   "execution_count": 5,
   "id": "b62b00c7",
   "metadata": {
    "execution": {
     "iopub.execute_input": "2023-08-18T07:05:03.189786Z",
     "iopub.status.busy": "2023-08-18T07:05:03.188961Z",
     "iopub.status.idle": "2023-08-18T07:05:03.197712Z",
     "shell.execute_reply": "2023-08-18T07:05:03.196559Z"
    },
    "origin_pos": 75,
    "tab": [
     "pytorch"
    ]
   },
   "outputs": [
    {
     "data": {
      "text/plain": [
       "(tensor([3.5000]), 3.5, 3.5, 3)"
      ]
     },
     "execution_count": 5,
     "metadata": {},
     "output_type": "execute_result"
    }
   ],
   "source": [
    "X[-1], X[1:3]\n",
    "\n",
    "# 将大小为1的张量转换为Python标量\n",
    "a = torch.tensor([3.5]) \n",
    "a, a.item(), float(a), int(a)"
   ]
  }
 ],
 "metadata": {
  "celltoolbar": "Slideshow",
  "kernelspec": {
   "display_name": "LiMu",
   "language": "python",
   "name": "python3"
  },
  "language_info": {
   "codemirror_mode": {
    "name": "ipython",
    "version": 3
   },
   "file_extension": ".py",
   "mimetype": "text/x-python",
   "name": "python",
   "nbconvert_exporter": "python",
   "pygments_lexer": "ipython3",
   "version": "3.10.14"
  },
  "required_libs": [],
  "rise": {
   "autolaunch": true,
   "enable_chalkboard": true,
   "overlay": "<div class='my-top-right'><img height=80px src='http://d2l.ai/_static/logo-with-text.png'/></div><div class='my-top-left'></div>",
   "scroll": true
  }
 },
 "nbformat": 4,
 "nbformat_minor": 5
}
