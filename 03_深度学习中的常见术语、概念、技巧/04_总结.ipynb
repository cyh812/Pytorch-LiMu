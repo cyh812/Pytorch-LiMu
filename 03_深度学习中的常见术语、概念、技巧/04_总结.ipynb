{
 "cells": [
  {
   "cell_type": "markdown",
   "id": "c577ede6",
   "metadata": {},
   "source": [
    "**K折交叉验证**目前pytorch没有什么封装好的方法，在实战中需要自己写，当然如果数据量足够大，也可以考虑不用这个方法\n",
    "\n",
    "本章中提到的相关技巧与优化方法不建议*水平一般、数学一般*的同学深入挖掘研究并理解，虽然听起来不负责任，但是\n",
    "- 在实战中相关方法往往已经被封装好了，不理解不代表不可以用\n",
    "- 这块一般是数学出身的才玩得转，尤其是在深入优化方面，以权重衰退等正则化理解为例，想要理解可以参考B站https://www.bilibili.com/video/BV1gf4y1c7Gg/?spm_id_from=333.337.top_right_bar_window_custom_collection.content.click&vd_source=b4ed50c89f6fac8a7aaeeb2ab98d2459\n",
    "\n",
    "其他方法，如**Dropout**、**Batch Normalization**、**小批量随机梯度下降**，可以发现优化的方面无非就是数据处理层面、权重训练优化层面等等"
   ]
  }
 ],
 "metadata": {
  "language_info": {
   "name": "python"
  }
 },
 "nbformat": 4,
 "nbformat_minor": 5
}
