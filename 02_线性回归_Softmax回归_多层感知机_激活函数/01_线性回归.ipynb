{
 "cells": [
  {
   "cell_type": "markdown",
   "id": "44972e6e",
   "metadata": {
    "slideshow": {
     "slide_type": "-"
    }
   },
   "source": [
    "# 线性回归\n",
    "\n",
    "线性回归是一种单层神经网络，输入有**n**个神经元，输出有**1**个神经元"
   ]
  },
  {
   "cell_type": "markdown",
   "id": "dc9154fe",
   "metadata": {},
   "source": [
    "### 线性回归的关键式子\n",
    "\n",
    "1. 线性模型的预测公式\n",
    "$$\n",
    "\\widehat{y} = Xw + b\n",
    "$$\n",
    "这个公式表示向量 $\\widehat{y}$（预测值）是矩阵 $X$（特征）和向量 $w$（权重）的乘积加上偏置项 $b$。\n",
    "2. 每个样本的平方误差损失\n",
    "$$\n",
    "loss^{i}(w,b) = \\frac{1}{2}(w^{T}x^{i} + b - y^{i})^{2}\n",
    "$$\n",
    "\n",
    "3. 整个数据集的损失\n",
    "$$\n",
    "Loss(w,b) = \\frac{1}{n} \\sum_{i = 1}^{n} \\frac{1}{2}(w^{T}x^{i} + b - y^{i})^{2}\n",
    "$$\n",
    "\n",
    "4. 理论上最优参数（$w^{*},b^{*}$）的求解\n",
    "$$\n",
    "(w^{*},b^{*}) = argmin_{w,b}Loss(w,b)\n",
    "$$"
   ]
  },
  {
   "cell_type": "markdown",
   "id": "dc93967d",
   "metadata": {},
   "source": [
    "### 随机梯度下降方法求解线性回归问题\n",
    "\n",
    "1. 指定超参数，本问题中是批量大小和学习率。\n",
    "2. 初始化模型参数的值，如从均值为0、标准差为0.01的正态分布中随机采样，偏置参数初始化为零。\n",
    "3. 从数据集中随机抽取小批量样本且在负梯度的方向上更新参数，并不断迭代这⼀步骤。\n",
    "权重更新过程的数学表达如下：\n",
    "\n",
    "$$\n",
    "w \\leftarrow w - \\frac{\\eta}{|B|} \\sum_{i \\in {B}} \\frac{\\partial{loss^{i}(w,b)}}{\\partial{w}} = w - \\frac{\\eta}{|B|} \\sum_{i \\in {B}} x^{i}(w^{T}x^{i} + b - y^{i})\n",
    "$$\n",
    "\n",
    "$$\n",
    "b \\leftarrow b - \\frac{\\eta}{|B|} \\sum_{i \\in {B}} \\frac{\\partial{loss^{i}(w,b)}}{\\partial{b}} = b - \\frac{\\eta}{|B|} \\sum_{i \\in {B}} (w^{T}x^{i} + b - y^{i})\n",
    "$$\n",
    "\n",
    "> 注意这里是均方误差+简单的线性回归才能手动推导出导数和优化公式，如果是深层神经网络，权重和偏置存在多个需要嵌套计算导数就很难手动推导表达，尤其是还要加入激活函数模块，这时候就开始以**反向传播**作为主要解决方案了"
   ]
  },
  {
   "cell_type": "code",
   "execution_count": 1,
   "id": "1e60261c",
   "metadata": {
    "execution": {
     "iopub.execute_input": "2023-08-18T07:02:04.564932Z",
     "iopub.status.busy": "2023-08-18T07:02:04.564190Z",
     "iopub.status.idle": "2023-08-18T07:02:04.575309Z",
     "shell.execute_reply": "2023-08-18T07:02:04.574216Z"
    },
    "origin_pos": 8,
    "tab": [
     "pytorch"
    ]
   },
   "outputs": [
    {
     "name": "stdout",
     "output_type": "stream",
     "text": [
      "epoch 1, loss 0.000194\n",
      "epoch 2, loss 0.000102\n",
      "epoch 3, loss 0.000102\n",
      "w的估计误差： tensor([-2.1458e-04, -8.8930e-05])\n",
      "b的估计误差： tensor([-0.0006])\n"
     ]
    }
   ],
   "source": [
    "import random\n",
    "import torch\n",
    "import numpy as np\n",
    "import matplotlib.pyplot as plt\n",
    "from torch.utils import data\n",
    "from torch import nn\n",
    "\n",
    "def synthetic_data(w, b, num_examples):  \n",
    "    \"\"\"生成y=Xw+b+噪声\"\"\"\n",
    "    X = torch.normal(0, 1, (num_examples, len(w))) # 生成1000个2维数据（1000*2），每个数值为（0，1）的正态分布，因为参数w是2个维度，所以训练数据也要两个维度\n",
    "    y = torch.matmul(X, w) + b # 矩阵相乘\n",
    "    y += torch.normal(0, 0.01, y.shape) #每个y加上一点点噪声\n",
    "    return X, y.reshape((-1, 1))\n",
    "\n",
    "true_w = torch.tensor([2, -3.4])\n",
    "true_b = 4.2\n",
    "features, labels = synthetic_data(true_w, true_b, 1000)\n",
    "\n",
    "\n",
    "def load_array(data_arrays, batch_size, is_train=True):  \n",
    "    \"\"\"构造一个PyTorch数据迭代器\"\"\"\n",
    "    dataset = data.TensorDataset(*data_arrays)\n",
    "    return data.DataLoader(dataset, batch_size, shuffle=is_train)\n",
    "\n",
    "batch_size = 10\n",
    "data_iter = load_array((features, labels), batch_size)\n",
    "\n",
    "next(iter(data_iter))\n",
    "\n",
    "# 定义一个线性层\n",
    "net = nn.Sequential(nn.Linear(2, 1))\n",
    "\n",
    "# 初始化模型参数\n",
    "net[0].weight.data.normal_(0, 0.01)\n",
    "net[0].bias.data.fill_(0)\n",
    "\n",
    "# 计算均方误差使用的是MSELoss类，也称为平方L2范数\n",
    "loss = nn.MSELoss()\n",
    "\n",
    "# 实例化SGD\n",
    "trainer = torch.optim.SGD(net.parameters(), lr=0.03)\n",
    "\n",
    "# 训练\n",
    "num_epochs = 3\n",
    "for epoch in range(num_epochs):\n",
    "    for X, y in data_iter:\n",
    "        l = loss(net(X) ,y)\n",
    "        trainer.zero_grad()\n",
    "        l.backward()\n",
    "        trainer.step()\n",
    "    l = loss(net(features), labels)\n",
    "    print(f'epoch {epoch + 1}, loss {l:f}')\n",
    "\n",
    "# 评估\n",
    "w = net[0].weight.data\n",
    "print('w的估计误差：', true_w - w.reshape(true_w.shape))\n",
    "b = net[0].bias.data\n",
    "print('b的估计误差：', true_b - b)"
   ]
  }
 ],
 "metadata": {
  "celltoolbar": "Slideshow",
  "kernelspec": {
   "display_name": "LiMu",
   "language": "python",
   "name": "python3"
  },
  "language_info": {
   "codemirror_mode": {
    "name": "ipython",
    "version": 3
   },
   "file_extension": ".py",
   "mimetype": "text/x-python",
   "name": "python",
   "nbconvert_exporter": "python",
   "pygments_lexer": "ipython3",
   "version": "3.10.14"
  },
  "required_libs": [],
  "rise": {
   "autolaunch": true,
   "enable_chalkboard": true,
   "overlay": "<div class='my-top-right'><img height=80px src='http://d2l.ai/_static/logo-with-text.png'/></div><div class='my-top-left'></div>",
   "scroll": true
  }
 },
 "nbformat": 4,
 "nbformat_minor": 5
}
