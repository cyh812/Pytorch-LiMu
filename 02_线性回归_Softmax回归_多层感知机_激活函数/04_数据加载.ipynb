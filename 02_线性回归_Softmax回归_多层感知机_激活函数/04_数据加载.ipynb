{
 "cells": [
  {
   "cell_type": "markdown",
   "id": "1c14641a",
   "metadata": {},
   "source": [
    "# 数据加载\n",
    "\n",
    "Torch中的Dataset和Dataloader方法详解     \n",
    "在PyTorch中，Dataset 和 DataLoader 是处理数据的核心工具，尤其适用于自定义数据集。Dataset 负责存储样本及其标签，而 DataLoader 则负责批量加载数据并提供迭代功能。"
   ]
  },
  {
   "cell_type": "markdown",
   "id": "d8162315",
   "metadata": {},
   "source": [
    "Dataset是一个抽象类，自定义数据集需要继承它，并实现以下两个方法：\n",
    "\n",
    "- \\_\\_len__()：返回数据集的大小。\n",
    "\n",
    "- \\_\\_getitem__()：根据索引返回一个样本（数据和标签）。\n",
    "\n",
    "**自定义数据集示例**    \n",
    "假设我们有一个自定义数据集，数据存储在 data 文件夹中，包含图像和对应的标签文件（如CSV或TXT）。"
   ]
  },
  {
   "cell_type": "code",
   "execution_count": null,
   "id": "c1094c36",
   "metadata": {
    "vscode": {
     "languageId": "plaintext"
    }
   },
   "outputs": [],
   "source": [
    "import torch\n",
    "from torch.utils.data import Dataset\n",
    "import pandas as pd\n",
    "from PIL import Image\n",
    "import os\n",
    "\n",
    "class CustomDataset(Dataset):\n",
    "    def __init__(self, csv_file, root_dir, transform=None):\n",
    "        \"\"\"\n",
    "        Args:\n",
    "            csv_file (str): 包含标签的CSV文件路径\n",
    "            root_dir (str): 数据存储的根目录\n",
    "            transform (callable, optional): 可选的预处理变换\n",
    "        \"\"\"\n",
    "        self.labels = pd.read_csv(csv_file)\n",
    "        self.root_dir = root_dir\n",
    "        self.transform = transform\n",
    "\n",
    "    def __len__(self):\n",
    "        return len(self.labels)  # 返回数据集的总样本数\n",
    "\n",
    "    def __getitem__(self, idx):\n",
    "        # 加载图像\n",
    "        img_name = os.path.join(self.root_dir, self.labels.iloc[idx, 0])\n",
    "        image = Image.open(img_name)  # 使用PIL加载图像\n",
    "\n",
    "        # 加载标签\n",
    "        label = self.labels.iloc[idx, 1]\n",
    "\n",
    "        # 应用变换（如果有）\n",
    "        if self.transform:\n",
    "            image = self.transform(image)\n",
    "\n",
    "        return image, label  # 返回样本和标签"
   ]
  },
  {
   "cell_type": "markdown",
   "id": "30030964",
   "metadata": {},
   "source": [
    "DataLoader 负责批量加载数据，并提供以下功能：\n",
    "\n",
    "- 批处理（batch_size）\n",
    "- 数据打乱（shuffle=True）\n",
    "- 多进程加载（num_workers）\n",
    "- 自动内存管理（pin_memory 加速GPU训练）"
   ]
  },
  {
   "cell_type": "code",
   "execution_count": null,
   "id": "7628f847",
   "metadata": {
    "vscode": {
     "languageId": "plaintext"
    }
   },
   "outputs": [],
   "source": [
    "from torch.utils.data import DataLoader\n",
    "from torchvision import transforms\n",
    "\n",
    "# 定义数据变换\n",
    "transform = transforms.Compose([\n",
    "    transforms.Resize((256, 256)),  # 调整图像大小\n",
    "    transforms.ToTensor(),          # 转为Tensor并归一化到 [0,1]\n",
    "])\n",
    "\n",
    "# 初始化自定义数据集\n",
    "dataset = CustomDataset(\n",
    "    csv_file=\"data/labels.csv\",\n",
    "    root_dir=\"data/images\",\n",
    "    transform=transform\n",
    ")\n",
    "\n",
    "# 创建DataLoader\n",
    "dataloader = DataLoader(\n",
    "    dataset,\n",
    "    batch_size=32,      # 每批加载32个样本\n",
    "    shuffle=True,        # 打乱数据顺序\n",
    "    num_workers=4,       # 使用4个子进程加载数据\n",
    "    pin_memory=True      # 加速GPU数据传输\n",
    ")\n",
    "\n"
   ]
  },
  {
   "cell_type": "markdown",
   "id": "ac57877b",
   "metadata": {},
   "source": [
    "使用DataLoader迭代调取数据训练有两种方法    \n",
    "- For循环；更简洁常用\n",
    "- iter()和next()结合；可手动控制迭代过程"
   ]
  },
  {
   "cell_type": "code",
   "execution_count": null,
   "id": "de2ca822",
   "metadata": {
    "vscode": {
     "languageId": "plaintext"
    }
   },
   "outputs": [],
   "source": [
    "# 方法1\n",
    "for batch_images, batch_labels in dataloader:\n",
    "    print(\"Batch images shape:\", batch_images.shape)  # [32, 3, 256, 256]\n",
    "    print(\"Batch labels:\", batch_labels)\n",
    "\n",
    "# 方法2\n",
    "data_iter = iter(dataloader)  # 显式创建迭代器\n",
    "\n",
    "# 手动获取一个批次\n",
    "batch_x, batch_y = next(data_iter)\n",
    "\n",
    "# 或者循环部分批次\n",
    "for _ in range(10):  # 只迭代10个批次\n",
    "    batch_x, batch_y = next(data_iter)\n",
    "    # 训练代码"
   ]
  }
 ],
 "metadata": {
  "language_info": {
   "name": "python"
  }
 },
 "nbformat": 4,
 "nbformat_minor": 5
}
